{
 "cells": [
  {
   "cell_type": "markdown",
   "id": "43e86ed7",
   "metadata": {},
   "source": [
    "# Loss function exercise: Implement Mean Squared Error Function In Python\n",
    "# Implement mean squared error (or MSE) in two ways,\n",
    "\n",
    "1) Without using numpy (i.e. using plain python)\n",
    "\n",
    "2) With the use of numpy"
   ]
  },
  {
   "cell_type": "code",
   "execution_count": 1,
   "id": "1a82e84e",
   "metadata": {},
   "outputs": [],
   "source": [
    "# Q1. :\n",
    "\n",
    "import numpy as np\n",
    "\n",
    "y_predicted = np.array([1,1,0,0,1])\n",
    "y_true = np.array([0.30,0.7,1,0,0.5])\n",
    "\n",
    "def mean_sq_error(y_true,y_predicted):\n",
    "    total_error=0\n",
    "    for yt,yp in zip(y_true,y_predicted):\n",
    "        total_error+=abs(np.square(yt-yp))\n",
    "    print(total_error)\n",
    "    \n",
    "    mae=total_error/len(y_true)\n",
    "    print(mae)\n"
   ]
  },
  {
   "cell_type": "code",
   "execution_count": 2,
   "id": "83cc4e99",
   "metadata": {},
   "outputs": [
    {
     "name": "stdout",
     "output_type": "stream",
     "text": [
      "1.83\n",
      "0.366\n"
     ]
    }
   ],
   "source": [
    "mean_sq_error(y_true,y_predicted)"
   ]
  },
  {
   "cell_type": "code",
   "execution_count": 3,
   "id": "ea3bde2d",
   "metadata": {},
   "outputs": [
    {
     "data": {
      "text/plain": [
       "0.366"
      ]
     },
     "execution_count": 3,
     "metadata": {},
     "output_type": "execute_result"
    }
   ],
   "source": [
    "# Q2. :\n",
    "\n",
    "np.mean(np.abs(np.square(y_true-y_predicted)))"
   ]
  }
 ],
 "metadata": {
  "kernelspec": {
   "display_name": "Python 3.10 (tensorflow)",
   "language": "python",
   "name": "tensorflow"
  },
  "language_info": {
   "codemirror_mode": {
    "name": "ipython",
    "version": 3
   },
   "file_extension": ".py",
   "mimetype": "text/x-python",
   "name": "python",
   "nbconvert_exporter": "python",
   "pygments_lexer": "ipython3",
   "version": "3.10.9"
  }
 },
 "nbformat": 4,
 "nbformat_minor": 5
}
