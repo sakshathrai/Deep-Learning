{
 "cells": [
  {
   "cell_type": "markdown",
   "id": "64ff5531",
   "metadata": {},
   "source": [
    "## Exercise: Matrix Math\n",
    "1. Below is some indian companies revenues in US dollars. Using numpy can you convert this into Indian rupees? 1 USD = 75 INR\n",
    "\n",
    "![](revenue_usd.jpg)\n"
   ]
  },
  {
   "cell_type": "code",
   "execution_count": 1,
   "id": "e5b515c4",
   "metadata": {},
   "outputs": [
    {
     "data": {
      "text/plain": [
       "array([[15000, 16500, 18750],\n",
       "       [ 5100,  5925,  7875],\n",
       "       [ 8250, 10500, 13500],\n",
       "       [ 6000,  6375,  6750]])"
      ]
     },
     "execution_count": 1,
     "metadata": {},
     "output_type": "execute_result"
    }
   ],
   "source": [
    "import numpy as np\n",
    "revenue=np.array([[200,220,250],[68,79,105],[110,140,180],[80,85,90]])\n",
    "usd=np.array([75])\n",
    "inr=revenue*usd\n",
    "inr"
   ]
  },
  {
   "cell_type": "markdown",
   "id": "1ce88601",
   "metadata": {},
   "source": [
    "2. Divine flowers is a flower shop that sells different type of flowers. Below is the table showing how many flowers of each type they sold in different months. Also given are the prices of one flower each. Using this find out their total sales in every month.\n",
    "\n",
    "![](flowers.jpg)\n"
   ]
  },
  {
   "cell_type": "code",
   "execution_count": 2,
   "id": "6f55d562",
   "metadata": {},
   "outputs": [
    {
     "data": {
      "text/plain": [
       "array([2350, 3180, 1655])"
      ]
     },
     "execution_count": 2,
     "metadata": {},
     "output_type": "execute_result"
    }
   ],
   "source": [
    "unit_sold=np.array([[50,60,25],[10,13,5],[40,70,52]])\n",
    "price_per_unit=np.array([29,30,15])\n",
    "np.dot(price_per_unit,unit_sold)"
   ]
  }
 ],
 "metadata": {
  "kernelspec": {
   "display_name": "Python 3.10 (tensorflow)",
   "language": "python",
   "name": "tensorflow"
  },
  "language_info": {
   "codemirror_mode": {
    "name": "ipython",
    "version": 3
   },
   "file_extension": ".py",
   "mimetype": "text/x-python",
   "name": "python",
   "nbconvert_exporter": "python",
   "pygments_lexer": "ipython3",
   "version": "3.10.9"
  }
 },
 "nbformat": 4,
 "nbformat_minor": 5
}
